{
 "worksheets": [
  {
   "cells": [
    {
     "cell_type": "markdown",
     "metadata": {},
     "source": [
      "# Example of using the v3api directly\n",
      "This notebook gives examples of using the API directly. "
     ]
    },
    {
     "cell_type": "code",
     "metadata": {},
     "outputs": [],
     "input": [
      "from tia.bbg import LocalTerminal\n",
      "import pandas as pd"
     ],
     "language": "python",
     "prompt_number": 9
    },
    {
     "cell_type": "markdown",
     "metadata": {},
     "source": [
      "# Reference Data Requests"
     ]
    },
    {
     "cell_type": "code",
     "metadata": {},
     "outputs": [
      {
       "output_type": "pyout",
       "html": [
        "<div style=\"max-height:1000px;max-width:1500px;overflow:auto;\">\n",
        "<table border=\"1\" class=\"dataframe\">\n",
        "  <thead>\n",
        "    <tr style=\"text-align: right;\">\n",
        "      <th></th>\n",
        "      <th>PX_LAST</th>\n",
        "      <th>GICS_SECTOR_NAME</th>\n",
        "      <th>VOLATILITY_30D</th>\n",
        "    </tr>\n",
        "  </thead>\n",
        "  <tbody>\n",
        "    <tr>\n",
        "      <th>MSFT US EQUITY</th>\n",
        "      <td> 46.24</td>\n",
        "      <td> Information Technology</td>\n",
        "      <td> 23.215106</td>\n",
        "    </tr>\n",
        "  </tbody>\n",
        "</table>\n",
        "</div>"
       ],
       "text": [
        "                PX_LAST        GICS_SECTOR_NAME  VOLATILITY_30D\n",
        "MSFT US EQUITY    46.24  Information Technology       23.215106"
       ],
       "metadata": {}
      }
     ],
     "input": [
      "# Single SID, Multiple Valid Fields\n",
      "resp = LocalTerminal.get_reference_data('MSFT US EQUITY', ['PX_LAST', 'GICS_SECTOR_NAME', 'VOLATILITY_30D'])\n",
      "resp.as_frame()"
     ],
     "language": "python",
     "prompt_number": 4
    },
    {
     "cell_type": "code",
     "metadata": {},
     "outputs": [
      {
       "output_type": "pyout",
       "prompt_number": 6,
       "text": [
        "defaultdict(<type 'dict'>, {'MSFT US EQUITY': {'VOLATILITY_30D': 23.215105804037524, 'GICS_SECTOR_NAME': 'Information Technology', 'PX_LAST': 46.24}})"
       ],
       "metadata": {}
      }
     ],
     "input": [
      "# Get the response as a dict\n",
      "resp.as_map()"
     ],
     "language": "python",
     "prompt_number": 6
    },
    {
     "cell_type": "code",
     "metadata": {},
     "outputs": [
      {
       "output_type": "pyout",
       "html": [
        "<div style=\"max-height:1000px;max-width:1500px;overflow:auto;\">\n",
        "<table border=\"1\" class=\"dataframe\">\n",
        "  <thead>\n",
        "    <tr style=\"text-align: right;\">\n",
        "      <th></th>\n",
        "      <th>PX_LAST</th>\n",
        "      <th>GICS_SECTOR_NAME</th>\n",
        "      <th>BAD FIELD</th>\n",
        "    </tr>\n",
        "  </thead>\n",
        "  <tbody>\n",
        "    <tr>\n",
        "      <th>MSFT US EQUITY</th>\n",
        "      <td> 46.24</td>\n",
        "      <td> Information Technology</td>\n",
        "      <td>NaN</td>\n",
        "    </tr>\n",
        "  </tbody>\n",
        "</table>\n",
        "</div>"
       ],
       "text": [
        "                PX_LAST        GICS_SECTOR_NAME  BAD FIELD\n",
        "MSFT US EQUITY    46.24  Information Technology        NaN"
       ],
       "metadata": {}
      }
     ],
     "input": [
      "# Single SID, Invalid Fields\n",
      "# Ability to ignore errors\n",
      "resp = LocalTerminal.get_reference_data('MSFT US EQUITY', ['PX_LAST', 'GICS_SECTOR_NAME', 'BAD FIELD'], ignore_field_error=1)\n",
      "resp.as_frame()"
     ],
     "language": "python",
     "prompt_number": 7
    },
    {
     "cell_type": "code",
     "metadata": {},
     "outputs": [
      {
       "output_type": "pyout",
       "html": [
        "<div style=\"max-height:1000px;max-width:1500px;overflow:auto;\">\n",
        "<table border=\"1\" class=\"dataframe\">\n",
        "  <thead>\n",
        "    <tr style=\"text-align: right;\">\n",
        "      <th></th>\n",
        "      <th>PX_LAST</th>\n",
        "      <th>GICS_SECTOR_NAME</th>\n",
        "    </tr>\n",
        "  </thead>\n",
        "  <tbody>\n",
        "    <tr>\n",
        "      <th>ED1 COMDTY</th>\n",
        "      <td> 99.735</td>\n",
        "      <td>                    NaN</td>\n",
        "    </tr>\n",
        "    <tr>\n",
        "      <th>MSFT US EQUITY</th>\n",
        "      <td> 46.240</td>\n",
        "      <td> Information Technology</td>\n",
        "    </tr>\n",
        "  </tbody>\n",
        "</table>\n",
        "</div>"
       ],
       "text": [
        "                PX_LAST        GICS_SECTOR_NAME\n",
        "ED1 COMDTY       99.735                     NaN\n",
        "MSFT US EQUITY   46.240  Information Technology"
       ],
       "metadata": {}
      }
     ],
     "input": [
      "# Multiple SID, Invalid Fields\n",
      "# allows for non-homogeneous security types to be batched together\n",
      "resp = LocalTerminal.get_reference_data(['ED1 COMDTY', 'MSFT US EQUITY'], ['PX_LAST', 'GICS_SECTOR_NAME'], ignore_field_error=1)\n",
      "resp.as_frame()"
     ],
     "language": "python",
     "prompt_number": 8
    },
    {
     "cell_type": "code",
     "metadata": {},
     "outputs": [
      {
       "output_type": "pyout",
       "html": [
        "<div style=\"max-height:1000px;max-width:1500px;overflow:auto;\">\n",
        "<table border=\"1\" class=\"dataframe\">\n",
        "  <thead>\n",
        "    <tr style=\"text-align: right;\">\n",
        "      <th></th>\n",
        "      <th>CUST_TRR_RETURN_HOLDING_PER</th>\n",
        "    </tr>\n",
        "  </thead>\n",
        "  <tbody>\n",
        "    <tr>\n",
        "      <th>SPX INDEX</th>\n",
        "      <td> 17.95993</td>\n",
        "    </tr>\n",
        "  </tbody>\n",
        "</table>\n",
        "</div>"
       ],
       "text": [
        "           CUST_TRR_RETURN_HOLDING_PER\n",
        "SPX INDEX                     17.95993"
       ],
       "metadata": {}
      }
     ],
     "input": [
      "# Retrieve data without override\n",
      "LocalTerminal.get_reference_data('SPX INDEX', 'CUST_TRR_RETURN_HOLDING_PER').as_frame()"
     ],
     "language": "python",
     "prompt_number": 6
    },
    {
     "cell_type": "code",
     "metadata": {},
     "outputs": [
      {
       "output_type": "pyout",
       "html": [
        "<div style=\"max-height:1000px;max-width:1500px;overflow:auto;\">\n",
        "<table border=\"1\" class=\"dataframe\">\n",
        "  <thead>\n",
        "    <tr style=\"text-align: right;\">\n",
        "      <th></th>\n",
        "      <th>CUST_TRR_RETURN_HOLDING_PER</th>\n",
        "    </tr>\n",
        "  </thead>\n",
        "  <tbody>\n",
        "    <tr>\n",
        "      <th>SPX INDEX</th>\n",
        "      <td>-2.357234</td>\n",
        "    </tr>\n",
        "  </tbody>\n",
        "</table>\n",
        "</div>"
       ],
       "text": [
        "           CUST_TRR_RETURN_HOLDING_PER\n",
        "SPX INDEX                    -2.357234"
       ],
       "metadata": {}
      }
     ],
     "input": [
      "# Retrieve data with override (1 month total return)\n",
      "dt = pd.datetools.BDay(-21).apply(pd.datetime.now()).strftime('%Y%m%d')\n",
      "LocalTerminal.get_reference_data('SPX INDEX', 'CUST_TRR_RETURN_HOLDING_PER', CUST_TRR_START_DT=dt).as_frame()"
     ],
     "language": "python",
     "prompt_number": 10
    },
    {
     "cell_type": "heading",
     "metadata": {},
     "level": 1,
     "source": [
      "HISTORICAL DATA"
     ]
    },
    {
     "cell_type": "code",
     "metadata": {},
     "outputs": [
      {
       "output_type": "pyout",
       "html": [
        "<div style=\"max-height:1000px;max-width:1500px;overflow:auto;\">\n",
        "<table border=\"1\" class=\"dataframe\">\n",
        "  <thead>\n",
        "    <tr>\n",
        "      <th></th>\n",
        "      <th colspan=\"2\" halign=\"left\">MSFT US EQUITY</th>\n",
        "    </tr>\n",
        "    <tr>\n",
        "      <th></th>\n",
        "      <th>PX_OPEN</th>\n",
        "      <th>PX_LAST</th>\n",
        "    </tr>\n",
        "    <tr>\n",
        "      <th>date</th>\n",
        "      <th></th>\n",
        "      <th></th>\n",
        "    </tr>\n",
        "  </thead>\n",
        "  <tbody>\n",
        "    <tr>\n",
        "      <th>2014-01-02</th>\n",
        "      <td> 37.350</td>\n",
        "      <td> 37.16</td>\n",
        "    </tr>\n",
        "    <tr>\n",
        "      <th>2014-01-03</th>\n",
        "      <td> 37.200</td>\n",
        "      <td> 36.91</td>\n",
        "    </tr>\n",
        "    <tr>\n",
        "      <th>2014-01-06</th>\n",
        "      <td> 36.850</td>\n",
        "      <td> 36.13</td>\n",
        "    </tr>\n",
        "    <tr>\n",
        "      <th>2014-01-07</th>\n",
        "      <td> 36.325</td>\n",
        "      <td> 36.41</td>\n",
        "    </tr>\n",
        "    <tr>\n",
        "      <th>2014-01-08</th>\n",
        "      <td> 36.000</td>\n",
        "      <td> 35.76</td>\n",
        "    </tr>\n",
        "  </tbody>\n",
        "</table>\n",
        "</div>"
       ],
       "text": [
        "            MSFT US EQUITY         \n",
        "                   PX_OPEN  PX_LAST\n",
        "date                               \n",
        "2014-01-02          37.350    37.16\n",
        "2014-01-03          37.200    36.91\n",
        "2014-01-06          36.850    36.13\n",
        "2014-01-07          36.325    36.41\n",
        "2014-01-08          36.000    35.76"
       ],
       "metadata": {}
      }
     ],
     "input": [
      "# Single SID, Multiple Valid Fields\n",
      "resp = LocalTerminal.get_historical('MSFT US EQUITY', ['PX_OPEN', 'PX_LAST'], start='1/1/2014', end='3/1/2014')\n",
      "resp.as_frame().head()"
     ],
     "language": "python",
     "prompt_number": 11
    },
    {
     "cell_type": "code",
     "metadata": {},
     "outputs": [
      {
       "output_type": "pyout",
       "html": [
        "<div style=\"max-height:1000px;max-width:1500px;overflow:auto;\">\n",
        "<table border=\"1\" class=\"dataframe\">\n",
        "  <thead>\n",
        "    <tr>\n",
        "      <th></th>\n",
        "      <th colspan=\"2\" halign=\"left\">IBM US EQUITY</th>\n",
        "      <th colspan=\"2\" halign=\"left\">MSFT US EQUITY</th>\n",
        "    </tr>\n",
        "    <tr>\n",
        "      <th></th>\n",
        "      <th>PX_OPEN</th>\n",
        "      <th>PX_LAST</th>\n",
        "      <th>PX_OPEN</th>\n",
        "      <th>PX_LAST</th>\n",
        "    </tr>\n",
        "    <tr>\n",
        "      <th>date</th>\n",
        "      <th></th>\n",
        "      <th></th>\n",
        "      <th></th>\n",
        "      <th></th>\n",
        "    </tr>\n",
        "  </thead>\n",
        "  <tbody>\n",
        "    <tr>\n",
        "      <th>2014-01-02</th>\n",
        "      <td> 187.21</td>\n",
        "      <td> 185.53</td>\n",
        "      <td> 37.350</td>\n",
        "      <td> 37.16</td>\n",
        "    </tr>\n",
        "    <tr>\n",
        "      <th>2014-01-03</th>\n",
        "      <td> 185.83</td>\n",
        "      <td> 186.64</td>\n",
        "      <td> 37.200</td>\n",
        "      <td> 36.91</td>\n",
        "    </tr>\n",
        "    <tr>\n",
        "      <th>2014-01-06</th>\n",
        "      <td> 187.15</td>\n",
        "      <td> 186.00</td>\n",
        "      <td> 36.850</td>\n",
        "      <td> 36.13</td>\n",
        "    </tr>\n",
        "    <tr>\n",
        "      <th>2014-01-07</th>\n",
        "      <td> 186.39</td>\n",
        "      <td> 189.71</td>\n",
        "      <td> 36.325</td>\n",
        "      <td> 36.41</td>\n",
        "    </tr>\n",
        "    <tr>\n",
        "      <th>2014-01-08</th>\n",
        "      <td> 189.33</td>\n",
        "      <td> 187.97</td>\n",
        "      <td> 36.000</td>\n",
        "      <td> 35.76</td>\n",
        "    </tr>\n",
        "  </tbody>\n",
        "</table>\n",
        "</div>"
       ],
       "text": [
        "            IBM US EQUITY           MSFT US EQUITY         \n",
        "                  PX_OPEN  PX_LAST         PX_OPEN  PX_LAST\n",
        "date                                                       \n",
        "2014-01-02         187.21   185.53          37.350    37.16\n",
        "2014-01-03         185.83   186.64          37.200    36.91\n",
        "2014-01-06         187.15   186.00          36.850    36.13\n",
        "2014-01-07         186.39   189.71          36.325    36.41\n",
        "2014-01-08         189.33   187.97          36.000    35.76"
       ],
       "metadata": {}
      }
     ],
     "input": [
      "# Multiple SIDs, Multiple Valid Fields\n",
      "resp = LocalTerminal.get_historical(['IBM US EQUITY', 'MSFT US EQUITY'], ['PX_OPEN', 'PX_LAST'], start='1/1/2014', end='3/1/2014')\n",
      "resp.as_frame().head()"
     ],
     "language": "python",
     "prompt_number": 13
    },
    {
     "cell_type": "code",
     "metadata": {},
     "outputs": [
      {
       "output_type": "pyout",
       "html": [
        "<div style=\"max-height:1000px;max-width:1500px;overflow:auto;\">\n",
        "<table border=\"1\" class=\"dataframe\">\n",
        "  <thead>\n",
        "    <tr>\n",
        "      <th></th>\n",
        "      <th colspan=\"2\" halign=\"left\">IBM US EQUITY</th>\n",
        "      <th colspan=\"2\" halign=\"left\">MSFT US EQUITY</th>\n",
        "    </tr>\n",
        "    <tr>\n",
        "      <th></th>\n",
        "      <th>PX_OPEN</th>\n",
        "      <th>PX_LAST</th>\n",
        "      <th>PX_OPEN</th>\n",
        "      <th>PX_LAST</th>\n",
        "    </tr>\n",
        "    <tr>\n",
        "      <th>date</th>\n",
        "      <th></th>\n",
        "      <th></th>\n",
        "      <th></th>\n",
        "      <th></th>\n",
        "    </tr>\n",
        "  </thead>\n",
        "  <tbody>\n",
        "    <tr>\n",
        "      <th>2014-01-03</th>\n",
        "      <td> 185.320</td>\n",
        "      <td> 186.64</td>\n",
        "      <td> 37.22</td>\n",
        "      <td> 36.910</td>\n",
        "    </tr>\n",
        "    <tr>\n",
        "      <th>2014-01-10</th>\n",
        "      <td> 187.150</td>\n",
        "      <td> 187.26</td>\n",
        "      <td> 36.85</td>\n",
        "      <td> 36.040</td>\n",
        "    </tr>\n",
        "    <tr>\n",
        "      <th>2014-01-17</th>\n",
        "      <td> 186.260</td>\n",
        "      <td> 190.09</td>\n",
        "      <td> 35.99</td>\n",
        "      <td> 36.380</td>\n",
        "    </tr>\n",
        "    <tr>\n",
        "      <th>2014-01-24</th>\n",
        "      <td> 190.230</td>\n",
        "      <td> 179.64</td>\n",
        "      <td> 36.82</td>\n",
        "      <td> 36.805</td>\n",
        "    </tr>\n",
        "    <tr>\n",
        "      <th>2014-01-31</th>\n",
        "      <td> 179.605</td>\n",
        "      <td> 176.68</td>\n",
        "      <td> 36.87</td>\n",
        "      <td> 37.840</td>\n",
        "    </tr>\n",
        "  </tbody>\n",
        "</table>\n",
        "</div>"
       ],
       "text": [
        "            IBM US EQUITY           MSFT US EQUITY         \n",
        "                  PX_OPEN  PX_LAST         PX_OPEN  PX_LAST\n",
        "date                                                       \n",
        "2014-01-03        185.320   186.64           37.22   36.910\n",
        "2014-01-10        187.150   187.26           36.85   36.040\n",
        "2014-01-17        186.260   190.09           35.99   36.380\n",
        "2014-01-24        190.230   179.64           36.82   36.805\n",
        "2014-01-31        179.605   176.68           36.87   37.840"
       ],
       "metadata": {}
      }
     ],
     "input": [
      "# Weekly data\n",
      "resp = LocalTerminal.get_historical(['IBM US EQUITY', 'MSFT US EQUITY'], ['PX_OPEN', 'PX_LAST'], \n",
      "                                         start='1/1/2014', end='3/1/2014', period='WEEKLY')\n",
      "resp.as_frame().head()"
     ],
     "language": "python",
     "prompt_number": 14
    },
    {
     "cell_type": "code",
     "metadata": {},
     "outputs": [
      {
       "output_type": "pyout",
       "prompt_number": 15,
       "text": [
        "<class 'pandas.core.panel.Panel'>\n",
        "Dimensions: 2 (items) x 9 (major_axis) x 2 (minor_axis)\n",
        "Items axis: IBM US EQUITY to MSFT US EQUITY\n",
        "Major_axis axis: 2014-01-03 00:00:00 to 2014-02-28 00:00:00\n",
        "Minor_axis axis: PX_OPEN to PX_LAST"
       ],
       "metadata": {}
      }
     ],
     "input": [
      "# format response as panel\n",
      "resp.as_panel()"
     ],
     "language": "python",
     "prompt_number": 15
    },
    {
     "cell_type": "heading",
     "metadata": {},
     "level": 1,
     "source": [
      "RETRIEVING CURVES AND MEMBERS"
     ]
    },
    {
     "cell_type": "code",
     "metadata": {},
     "outputs": [
      {
       "output_type": "pyout",
       "html": [
        "<div style=\"max-height:1000px;max-width:1500px;overflow:auto;\">\n",
        "<table border=\"1\" class=\"dataframe\">\n",
        "  <thead>\n",
        "    <tr style=\"text-align: right;\">\n",
        "      <th></th>\n",
        "      <th>Security Description</th>\n",
        "      <th>Settlement Date</th>\n",
        "      <th>Bid</th>\n",
        "      <th>Mid</th>\n",
        "      <th>Ask</th>\n",
        "    </tr>\n",
        "  </thead>\n",
        "  <tbody>\n",
        "    <tr>\n",
        "      <th>0</th>\n",
        "      <td> EURON Curncy</td>\n",
        "      <td>2015-01-20</td>\n",
        "      <td>-0.010</td>\n",
        "      <td> 0.005</td>\n",
        "      <td> 0.020</td>\n",
        "    </tr>\n",
        "    <tr>\n",
        "      <th>1</th>\n",
        "      <td> EURTN Curncy</td>\n",
        "      <td>2015-01-21</td>\n",
        "      <td> 0.088</td>\n",
        "      <td> 0.110</td>\n",
        "      <td> 0.132</td>\n",
        "    </tr>\n",
        "    <tr>\n",
        "      <th>2</th>\n",
        "      <td> EURSN Curncy</td>\n",
        "      <td>2015-01-22</td>\n",
        "      <td> 0.100</td>\n",
        "      <td> 0.120</td>\n",
        "      <td> 0.140</td>\n",
        "    </tr>\n",
        "    <tr>\n",
        "      <th>3</th>\n",
        "      <td> EUR1W Curncy</td>\n",
        "      <td>2015-01-28</td>\n",
        "      <td> 0.740</td>\n",
        "      <td> 0.825</td>\n",
        "      <td> 0.910</td>\n",
        "    </tr>\n",
        "    <tr>\n",
        "      <th>4</th>\n",
        "      <td> EUR1M Curncy</td>\n",
        "      <td>2015-02-23</td>\n",
        "      <td> 3.990</td>\n",
        "      <td> 4.080</td>\n",
        "      <td> 4.170</td>\n",
        "    </tr>\n",
        "  </tbody>\n",
        "</table>\n",
        "</div>"
       ],
       "text": [
        "  Security Description Settlement Date    Bid    Mid    Ask\n",
        "0         EURON Curncy      2015-01-20 -0.010  0.005  0.020\n",
        "1         EURTN Curncy      2015-01-21  0.088  0.110  0.132\n",
        "2         EURSN Curncy      2015-01-22  0.100  0.120  0.140\n",
        "3         EUR1W Curncy      2015-01-28  0.740  0.825  0.910\n",
        "4         EUR1M Curncy      2015-02-23  3.990  4.080  4.170"
       ],
       "metadata": {}
      }
     ],
     "input": [
      "# Retrieve the EURUSD Forward Curve\n",
      "resp = LocalTerminal.get_reference_data('eurusd curncy', 'fwd_curve')\n",
      "# must retrieve a frame from the first row\n",
      "resp.as_frame().ix[0, 'fwd_curve'].head()"
     ],
     "language": "python",
     "prompt_number": 17
    },
    {
     "cell_type": "code",
     "metadata": {},
     "outputs": [
      {
       "output_type": "pyout",
       "html": [
        "<div style=\"max-height:1000px;max-width:1500px;overflow:auto;\">\n",
        "<table border=\"1\" class=\"dataframe\">\n",
        "  <thead>\n",
        "    <tr style=\"text-align: right;\">\n",
        "      <th></th>\n",
        "      <th>Security Description</th>\n",
        "      <th>Settlement Date</th>\n",
        "      <th>Bid</th>\n",
        "      <th>Mid</th>\n",
        "      <th>Ask</th>\n",
        "    </tr>\n",
        "  </thead>\n",
        "  <tbody>\n",
        "    <tr>\n",
        "      <th>0</th>\n",
        "      <td> EURON Curncy</td>\n",
        "      <td>2015-01-20</td>\n",
        "      <td>-0.010</td>\n",
        "      <td> 0.005</td>\n",
        "      <td> 0.020</td>\n",
        "    </tr>\n",
        "    <tr>\n",
        "      <th>1</th>\n",
        "      <td> EURTN Curncy</td>\n",
        "      <td>2015-01-21</td>\n",
        "      <td> 0.088</td>\n",
        "      <td> 0.110</td>\n",
        "      <td> 0.132</td>\n",
        "    </tr>\n",
        "    <tr>\n",
        "      <th>2</th>\n",
        "      <td> EURSN Curncy</td>\n",
        "      <td>2015-01-22</td>\n",
        "      <td> 0.100</td>\n",
        "      <td> 0.120</td>\n",
        "      <td> 0.140</td>\n",
        "    </tr>\n",
        "    <tr>\n",
        "      <th>3</th>\n",
        "      <td> EUR1W Curncy</td>\n",
        "      <td>2015-01-28</td>\n",
        "      <td> 0.740</td>\n",
        "      <td> 0.825</td>\n",
        "      <td> 0.910</td>\n",
        "    </tr>\n",
        "    <tr>\n",
        "      <th>4</th>\n",
        "      <td> EUR1M Curncy</td>\n",
        "      <td>2015-02-23</td>\n",
        "      <td> 3.990</td>\n",
        "      <td> 4.080</td>\n",
        "      <td> 4.170</td>\n",
        "    </tr>\n",
        "  </tbody>\n",
        "</table>\n",
        "</div>"
       ],
       "text": [
        "  Security Description Settlement Date    Bid    Mid    Ask\n",
        "0         EURON Curncy      2015-01-20 -0.010  0.005  0.020\n",
        "1         EURTN Curncy      2015-01-21  0.088  0.110  0.132\n",
        "2         EURSN Curncy      2015-01-22  0.100  0.120  0.140\n",
        "3         EUR1W Curncy      2015-01-28  0.740  0.825  0.910\n",
        "4         EUR1M Curncy      2015-02-23  3.990  4.080  4.170"
       ],
       "metadata": {}
      }
     ],
     "input": [
      "# OR \n",
      "resp.as_map()['eurusd curncy']['fwd_curve'].head()"
     ],
     "language": "python",
     "prompt_number": 18
    },
    {
     "cell_type": "code",
     "metadata": {},
     "outputs": [
      {
       "output_type": "pyout",
       "html": [
        "<div style=\"max-height:1000px;max-width:1500px;overflow:auto;\">\n",
        "<table border=\"1\" class=\"dataframe\">\n",
        "  <thead>\n",
        "    <tr style=\"text-align: right;\">\n",
        "      <th></th>\n",
        "      <th>Maturity Period</th>\n",
        "      <th>Maturity as Percent of Year</th>\n",
        "      <th>Delta Type</th>\n",
        "      <th>Delta</th>\n",
        "      <th>Volatility</th>\n",
        "    </tr>\n",
        "  </thead>\n",
        "  <tbody>\n",
        "    <tr>\n",
        "      <th>0</th>\n",
        "      <td> 1D</td>\n",
        "      <td> 0.0024</td>\n",
        "      <td>      ATM</td>\n",
        "      <td> 0.50</td>\n",
        "      <td> 12.1750</td>\n",
        "    </tr>\n",
        "    <tr>\n",
        "      <th>1</th>\n",
        "      <td> 1D</td>\n",
        "      <td> 0.0024</td>\n",
        "      <td> 35D_CALL</td>\n",
        "      <td> 0.35</td>\n",
        "      <td> 11.7553</td>\n",
        "    </tr>\n",
        "    <tr>\n",
        "      <th>2</th>\n",
        "      <td> 1D</td>\n",
        "      <td> 0.0024</td>\n",
        "      <td>  35D_PUT</td>\n",
        "      <td> 0.65</td>\n",
        "      <td> 12.5084</td>\n",
        "    </tr>\n",
        "    <tr>\n",
        "      <th>3</th>\n",
        "      <td> 1D</td>\n",
        "      <td> 0.0024</td>\n",
        "      <td> 25D_CALL</td>\n",
        "      <td> 0.25</td>\n",
        "      <td> 11.3441</td>\n",
        "    </tr>\n",
        "    <tr>\n",
        "      <th>4</th>\n",
        "      <td> 1D</td>\n",
        "      <td> 0.0024</td>\n",
        "      <td>  25D_PUT</td>\n",
        "      <td> 0.75</td>\n",
        "      <td> 12.6851</td>\n",
        "    </tr>\n",
        "  </tbody>\n",
        "</table>\n",
        "</div>"
       ],
       "text": [
        "  Maturity Period  Maturity as Percent of Year Delta Type  Delta  Volatility\n",
        "0              1D                       0.0024        ATM   0.50     12.1750\n",
        "1              1D                       0.0024   35D_CALL   0.35     11.7553\n",
        "2              1D                       0.0024    35D_PUT   0.65     12.5084\n",
        "3              1D                       0.0024   25D_CALL   0.25     11.3441\n",
        "4              1D                       0.0024    25D_PUT   0.75     12.6851"
       ],
       "metadata": {}
      }
     ],
     "input": [
      "# Retrive the EURUSD Vol Surface\n",
      "resp = LocalTerminal.get_reference_data('eurusd curncy', 'dflt_vol_surf_bid')\n",
      "resp.as_frame().ix[0, 'dflt_vol_surf_bid'].head()"
     ],
     "language": "python",
     "prompt_number": 19
    },
    {
     "cell_type": "code",
     "metadata": {},
     "outputs": [
      {
       "output_type": "pyout",
       "html": [
        "<div style=\"max-height:1000px;max-width:1500px;overflow:auto;\">\n",
        "<table border=\"1\" class=\"dataframe\">\n",
        "  <thead>\n",
        "    <tr style=\"text-align: right;\">\n",
        "      <th></th>\n",
        "      <th>PX_LAST</th>\n",
        "      <th>VOLATILITY_30D</th>\n",
        "    </tr>\n",
        "  </thead>\n",
        "  <tbody>\n",
        "    <tr>\n",
        "      <th>A US EQUITY</th>\n",
        "      <td>  38.25</td>\n",
        "      <td> 26.263148</td>\n",
        "    </tr>\n",
        "    <tr>\n",
        "      <th>AA US EQUITY</th>\n",
        "      <td>  15.28</td>\n",
        "      <td> 41.282445</td>\n",
        "    </tr>\n",
        "    <tr>\n",
        "      <th>AAPL US EQUITY</th>\n",
        "      <td> 105.99</td>\n",
        "      <td> 27.446828</td>\n",
        "    </tr>\n",
        "    <tr>\n",
        "      <th>ABBV US EQUITY</th>\n",
        "      <td>  64.54</td>\n",
        "      <td> 30.613424</td>\n",
        "    </tr>\n",
        "    <tr>\n",
        "      <th>ABC US EQUITY</th>\n",
        "      <td>  92.42</td>\n",
        "      <td> 16.234361</td>\n",
        "    </tr>\n",
        "  </tbody>\n",
        "</table>\n",
        "</div>"
       ],
       "text": [
        "                PX_LAST  VOLATILITY_30D\n",
        "A US EQUITY       38.25       26.263148\n",
        "AA US EQUITY      15.28       41.282445\n",
        "AAPL US EQUITY   105.99       27.446828\n",
        "ABBV US EQUITY    64.54       30.613424\n",
        "ABC US EQUITY     92.42       16.234361"
       ],
       "metadata": {}
      }
     ],
     "input": [
      "# More complex example\n",
      "# Retrive all members of the S&P 500, then get price and vol data\n",
      "resp = LocalTerminal.get_reference_data('spx index', 'indx_members')\n",
      "members = resp.as_frame().ix[0, 'indx_members']\n",
      "# append region + yellow key = 'US EQUITY'\n",
      "members = members.icol(0).apply(lambda x: x.split()[0] + ' US EQUITY')\n",
      "resp = LocalTerminal.get_reference_data(members, ['PX_LAST', 'VOLATILITY_30D'])\n",
      "resp.as_frame().head()"
     ],
     "language": "python",
     "prompt_number": 21
    },
    {
     "cell_type": "code",
     "metadata": {},
     "outputs": [
      {
       "output_type": "pyout",
       "html": [
        "<div style=\"max-height:1000px;max-width:1500px;overflow:auto;\">\n",
        "<table border=\"1\" class=\"dataframe\">\n",
        "  <thead>\n",
        "    <tr style=\"text-align: right;\">\n",
        "      <th></th>\n",
        "      <th>PX_LAST</th>\n",
        "      <th>VOLATILITY_30D</th>\n",
        "    </tr>\n",
        "  </thead>\n",
        "  <tbody>\n",
        "    <tr>\n",
        "      <th>count</th>\n",
        "      <td>  502.000000</td>\n",
        "      <td> 502.000000</td>\n",
        "    </tr>\n",
        "    <tr>\n",
        "      <th>mean</th>\n",
        "      <td>   81.876952</td>\n",
        "      <td>  26.030969</td>\n",
        "    </tr>\n",
        "    <tr>\n",
        "      <th>std</th>\n",
        "      <td>   84.156386</td>\n",
        "      <td>  10.530426</td>\n",
        "    </tr>\n",
        "    <tr>\n",
        "      <th>min</th>\n",
        "      <td>    6.830000</td>\n",
        "      <td>   3.234744</td>\n",
        "    </tr>\n",
        "    <tr>\n",
        "      <th>25%</th>\n",
        "      <td>   41.522500</td>\n",
        "      <td>  19.325519</td>\n",
        "    </tr>\n",
        "    <tr>\n",
        "      <th>50%</th>\n",
        "      <td>   63.540000</td>\n",
        "      <td>  23.714514</td>\n",
        "    </tr>\n",
        "    <tr>\n",
        "      <th>75%</th>\n",
        "      <td>   92.815000</td>\n",
        "      <td>  29.533332</td>\n",
        "    </tr>\n",
        "    <tr>\n",
        "      <th>max</th>\n",
        "      <td> 1008.220000</td>\n",
        "      <td>  77.806851</td>\n",
        "    </tr>\n",
        "  </tbody>\n",
        "</table>\n",
        "</div>"
       ],
       "text": [
        "           PX_LAST  VOLATILITY_30D\n",
        "count   502.000000      502.000000\n",
        "mean     81.876952       26.030969\n",
        "std      84.156386       10.530426\n",
        "min       6.830000        3.234744\n",
        "25%      41.522500       19.325519\n",
        "50%      63.540000       23.714514\n",
        "75%      92.815000       29.533332\n",
        "max    1008.220000       77.806851"
       ],
       "metadata": {}
      }
     ],
     "input": [
      "# kind of pointless\n",
      "resp.as_frame().describe()"
     ],
     "language": "python",
     "prompt_number": 22
    },
    {
     "cell_type": "code",
     "metadata": {},
     "outputs": [
      {
       "output_type": "pyout",
       "html": [
        "<div style=\"max-height:1000px;max-width:1500px;overflow:auto;\">\n",
        "<table border=\"1\" class=\"dataframe\">\n",
        "  <thead>\n",
        "    <tr style=\"text-align: right;\">\n",
        "      <th></th>\n",
        "      <th>VZ US EQUITY</th>\n",
        "      <th>UNP US EQUITY</th>\n",
        "      <th>XL US EQUITY</th>\n",
        "      <th>CBS US EQUITY</th>\n",
        "      <th>MU US EQUITY</th>\n",
        "    </tr>\n",
        "    <tr>\n",
        "      <th>date</th>\n",
        "      <th></th>\n",
        "      <th></th>\n",
        "      <th></th>\n",
        "      <th></th>\n",
        "      <th></th>\n",
        "    </tr>\n",
        "  </thead>\n",
        "  <tbody>\n",
        "    <tr>\n",
        "      <th>2014-01-21</th>\n",
        "      <td> 47.70</td>\n",
        "      <td> 84.060</td>\n",
        "      <td> 30.22</td>\n",
        "      <td> 59.70</td>\n",
        "      <td> 23.12</td>\n",
        "    </tr>\n",
        "    <tr>\n",
        "      <th>2014-01-22</th>\n",
        "      <td> 47.33</td>\n",
        "      <td> 84.250</td>\n",
        "      <td> 30.34</td>\n",
        "      <td> 60.77</td>\n",
        "      <td> 23.65</td>\n",
        "    </tr>\n",
        "    <tr>\n",
        "      <th>2014-01-23</th>\n",
        "      <td> 47.86</td>\n",
        "      <td> 87.060</td>\n",
        "      <td> 29.75</td>\n",
        "      <td> 59.70</td>\n",
        "      <td> 23.64</td>\n",
        "    </tr>\n",
        "    <tr>\n",
        "      <th>2014-01-24</th>\n",
        "      <td> 47.63</td>\n",
        "      <td> 85.820</td>\n",
        "      <td> 28.81</td>\n",
        "      <td> 58.39</td>\n",
        "      <td> 22.92</td>\n",
        "    </tr>\n",
        "    <tr>\n",
        "      <th>2014-01-27</th>\n",
        "      <td> 47.69</td>\n",
        "      <td> 85.605</td>\n",
        "      <td> 28.61</td>\n",
        "      <td> 58.18</td>\n",
        "      <td> 22.90</td>\n",
        "    </tr>\n",
        "  </tbody>\n",
        "</table>\n",
        "</div>"
       ],
       "text": [
        "            VZ US EQUITY  UNP US EQUITY  XL US EQUITY  CBS US EQUITY  \\\n",
        "date                                                                   \n",
        "2014-01-21         47.70         84.060         30.22          59.70   \n",
        "2014-01-22         47.33         84.250         30.34          60.77   \n",
        "2014-01-23         47.86         87.060         29.75          59.70   \n",
        "2014-01-24         47.63         85.820         28.81          58.39   \n",
        "2014-01-27         47.69         85.605         28.61          58.18   \n",
        "\n",
        "            MU US EQUITY  \n",
        "date                      \n",
        "2014-01-21         23.12  \n",
        "2014-01-22         23.65  \n",
        "2014-01-23         23.64  \n",
        "2014-01-24         22.92  \n",
        "2014-01-27         22.90  "
       ],
       "metadata": {}
      }
     ],
     "input": [
      "pxs = LocalTerminal.get_historical(members, 'PX_LAST')\n",
      "f = pxs.as_frame()\n",
      "f.columns = f.columns.get_level_values(0)\n",
      "# Show first 5 rows for last 5 days\n",
      "f.iloc[:5, -5:]"
     ],
     "language": "python",
     "prompt_number": 39
    }
   ]
  }
 ],
 "cells": [],
 "metadata": {
  "name": "",
  "signature": "sha256:4ad80005cabdb8663897748607a44f91eb807acc3dcb980b5b97f4e41765e187"
 },
 "nbformat": 3,
 "nbformat_minor": 0
}