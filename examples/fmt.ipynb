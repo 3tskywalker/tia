{
 "worksheets": [
  {
   "cells": [
    {
     "cell_type": "markdown",
     "metadata": {},
     "source": [
      "## Formatting utility package tia.util.fmt\n",
      "\n",
      "- Useful for quick formatting in IPython notebook\n",
      "- Used in the pdf generation package\n",
      "\n",
      "####Predefined formatters\n",
      "- IntFormatter\n",
      "- FloatFormatter\n",
      "- PercentFormatter\n",
      "- ThousandsFormatter\n",
      "- MillionsFormatter \n",
      "- BillionsFormatter \n",
      "- TrillionsFormatter \n",
      "- DollarCentsFormatter\n",
      "- DollarFormatter\n",
      "- ThousandDollarsFormatter\n",
      "- MillionDollarsFormatter\n",
      "- BillionDollarsFormatter \n",
      "- TrillionDollarsFormatter\n",
      "- YmdFormatter\n",
      "- Y_m_dFormatter \n",
      "- DynamicNumberFormatter\n",
      "\n",
      "####Format builder methods\n",
      "- new_int_formatter\n",
      "- new_float_formatter\n",
      "- new_thousands_formatter\n",
      "- new_millions_formatter\n",
      "- new_billions_formatter\n",
      "- new_trillions_formatter\n",
      "- new_percent_formatter\n",
      "- new_datetime_formatter\n",
      "- new_dynamic_formatter\n",
      "                          "
     ]
    },
    {
     "cell_type": "code",
     "metadata": {},
     "outputs": [],
     "input": [
      "import tia.util.fmt as fmt\n",
      "import pandas as pd\n",
      "import numpy as np\n",
      "from IPython.display import HTML"
     ],
     "language": "python",
     "prompt_number": 171
    },
    {
     "cell_type": "code",
     "metadata": {},
     "outputs": [
      {
       "output_type": "pyout",
       "prompt_number": 172,
       "text": [
        "'$123.5k'"
       ],
       "metadata": {}
      }
     ],
     "input": [
      "# formatters are callable and accept a variety of values\n",
      "number = 123456.5\n",
      "fmt.ThousandDollarsFormatter(number)"
     ],
     "language": "python",
     "prompt_number": 172
    },
    {
     "cell_type": "code",
     "metadata": {},
     "outputs": [
      {
       "output_type": "pyout",
       "prompt_number": 173,
       "text": [
        "['$123.5k', '$(123.5k)']"
       ],
       "metadata": {}
      }
     ],
     "input": [
      "array = [123456.5, -123456.5]\n",
      "fmt.ThousandDollarsFormatter(array)"
     ],
     "language": "python",
     "prompt_number": 173
    },
    {
     "cell_type": "code",
     "metadata": {},
     "outputs": [
      {
       "output_type": "pyout",
       "prompt_number": 174,
       "text": [
        "a    $123.5k\n",
        "b    $123.5k\n",
        "dtype: object"
       ],
       "metadata": {}
      }
     ],
     "input": [
      "series = pd.Series({'a': 123456.5, 'b': 123456.5})\n",
      "fmt.ThousandDollarsFormatter(series)"
     ],
     "language": "python",
     "prompt_number": 174
    },
    {
     "cell_type": "code",
     "metadata": {},
     "outputs": [
      {
       "output_type": "pyout",
       "html": [
        "<div style=\"max-height:1000px;max-width:1500px;overflow:auto;\">\n",
        "<table border=\"1\" class=\"dataframe\">\n",
        "  <thead>\n",
        "    <tr style=\"text-align: right;\">\n",
        "      <th></th>\n",
        "      <th>c1</th>\n",
        "      <th>c2</th>\n",
        "    </tr>\n",
        "  </thead>\n",
        "  <tbody>\n",
        "    <tr>\n",
        "      <th>a</th>\n",
        "      <td> $123.5k</td>\n",
        "      <td> $123.5k</td>\n",
        "    </tr>\n",
        "    <tr>\n",
        "      <th>b</th>\n",
        "      <td> $123.5k</td>\n",
        "      <td> $123.5k</td>\n",
        "    </tr>\n",
        "  </tbody>\n",
        "</table>\n",
        "</div>"
       ],
       "text": [
        "        c1       c2\n",
        "a  $123.5k  $123.5k\n",
        "b  $123.5k  $123.5k"
       ],
       "metadata": {}
      }
     ],
     "input": [
      "frame = pd.DataFrame({'c1': series, 'c2': series})\n",
      "fmt.ThousandDollarsFormatter(frame)"
     ],
     "language": "python",
     "prompt_number": 175
    },
    {
     "cell_type": "code",
     "metadata": {},
     "outputs": [
      {
       "output_type": "pyout",
       "prompt_number": 176,
       "text": [
        "array([['$123.5k', '$123.5k'],\n",
        "       ['$123.5k', '$123.5k']], dtype=object)"
       ],
       "metadata": {}
      }
     ],
     "input": [
      "ndarray = frame.values\n",
      "fmt.ThousandDollarsFormatter(ndarray)"
     ],
     "language": "python",
     "prompt_number": 176
    },
    {
     "cell_type": "code",
     "metadata": {},
     "outputs": [
      {
       "output_type": "pyout",
       "html": [
        "<div style=\"max-height:1000px;max-width:1500px;overflow:auto;\">\n",
        "<table border=\"1\" class=\"dataframe\">\n",
        "  <thead>\n",
        "    <tr style=\"text-align: right;\">\n",
        "      <th></th>\n",
        "      <th>f</th>\n",
        "      <th>k</th>\n",
        "      <th>pct</th>\n",
        "    </tr>\n",
        "  </thead>\n",
        "  <tbody>\n",
        "    <tr>\n",
        "      <th>0</th>\n",
        "      <td> 100.99</td>\n",
        "      <td>  1001.20</td>\n",
        "      <td> 0.021</td>\n",
        "    </tr>\n",
        "    <tr>\n",
        "      <th>1</th>\n",
        "      <td> -94.12</td>\n",
        "      <td>-94551.12</td>\n",
        "      <td>-0.505</td>\n",
        "    </tr>\n",
        "  </tbody>\n",
        "</table>\n",
        "</div>"
       ],
       "text": [
        "        f         k    pct\n",
        "0  100.99   1001.20  0.021\n",
        "1  -94.12 -94551.12 -0.505"
       ],
       "metadata": {}
      }
     ],
     "input": [
      "# heterogeneous data frame\n",
      "f = pd.DataFrame({'k': [1001.2, -94551.12], 'f': [100.99, -94.12], 'pct': [.021, -.505]})\n",
      "f"
     ],
     "language": "python",
     "prompt_number": 177
    },
    {
     "cell_type": "code",
     "metadata": {},
     "outputs": [
      {
       "output_type": "pyout",
       "html": [
        "<div style=\"max-height:1000px;max-width:1500px;overflow:auto;\">\n",
        "<table border=\"1\" class=\"dataframe\">\n",
        "  <thead>\n",
        "    <tr style=\"text-align: right;\">\n",
        "      <th></th>\n",
        "      <th>f</th>\n",
        "      <th>k</th>\n",
        "      <th>pct</th>\n",
        "    </tr>\n",
        "  </thead>\n",
        "  <tbody>\n",
        "    <tr>\n",
        "      <th>0</th>\n",
        "      <td>    101</td>\n",
        "      <td>    1,001.2</td>\n",
        "      <td>     0</td>\n",
        "    </tr>\n",
        "    <tr>\n",
        "      <th>1</th>\n",
        "      <td> (94.1)</td>\n",
        "      <td> (94,551.1)</td>\n",
        "      <td> (0.5)</td>\n",
        "    </tr>\n",
        "  </tbody>\n",
        "</table>\n",
        "</div>"
       ],
       "text": [
        "        f           k    pct\n",
        "0     101     1,001.2      0\n",
        "1  (94.1)  (94,551.1)  (0.5)"
       ],
       "metadata": {}
      }
     ],
     "input": [
      "# let the formatter guess - it uses all values to make decision unless you set method\n",
      "fmt.DynamicNumberFormatter(f)"
     ],
     "language": "python",
     "prompt_number": 178
    },
    {
     "cell_type": "code",
     "metadata": {},
     "outputs": [
      {
       "output_type": "pyout",
       "html": [
        "<div style=\"max-height:1000px;max-width:1500px;overflow:auto;\">\n",
        "<table border=\"1\" class=\"dataframe\">\n",
        "  <thead>\n",
        "    <tr style=\"text-align: right;\">\n",
        "      <th></th>\n",
        "      <th>f</th>\n",
        "      <th>k</th>\n",
        "      <th>pct</th>\n",
        "    </tr>\n",
        "  </thead>\n",
        "  <tbody>\n",
        "    <tr>\n",
        "      <th>0</th>\n",
        "      <td>  100.99</td>\n",
        "      <td>    1.00k</td>\n",
        "      <td>    2.10%</td>\n",
        "    </tr>\n",
        "    <tr>\n",
        "      <th>1</th>\n",
        "      <td> (94.12)</td>\n",
        "      <td> (94.55k)</td>\n",
        "      <td> (50.50%)</td>\n",
        "    </tr>\n",
        "  </tbody>\n",
        "</table>\n",
        "</div>"
       ],
       "text": [
        "         f         k       pct\n",
        "0   100.99     1.00k     2.10%\n",
        "1  (94.12)  (94.55k)  (50.50%)"
       ],
       "metadata": {}
      }
     ],
     "input": [
      "# Want more granual so tell it to do it by col (all values per column considered)\n",
      "fmt.new_dynamic_formatter(method='col', ignore_pcts=0, precision=2)(f)"
     ],
     "language": "python",
     "prompt_number": 179
    },
    {
     "cell_type": "code",
     "metadata": {},
     "outputs": [
      {
       "output_type": "pyout",
       "html": [
        "<div style=\"max-height:1000px;max-width:1500px;overflow:auto;\">\n",
        "<table border=\"1\" class=\"dataframe\">\n",
        "  <thead>\n",
        "    <tr style=\"text-align: right;\">\n",
        "      <th></th>\n",
        "      <th>f</th>\n",
        "      <th>k</th>\n",
        "      <th>pct</th>\n",
        "    </tr>\n",
        "  </thead>\n",
        "  <tbody>\n",
        "    <tr>\n",
        "      <th>0</th>\n",
        "      <td>  100.99</td>\n",
        "      <td>    1.00k</td>\n",
        "      <td> 0.02</td>\n",
        "    </tr>\n",
        "    <tr>\n",
        "      <th>1</th>\n",
        "      <td> (94.12)</td>\n",
        "      <td> (94.55k)</td>\n",
        "      <td> 1.02</td>\n",
        "    </tr>\n",
        "  </tbody>\n",
        "</table>\n",
        "</div>"
       ],
       "text": [
        "         f         k   pct\n",
        "0   100.99     1.00k  0.02\n",
        "1  (94.12)  (94.55k)  1.02"
       ],
       "metadata": {}
      }
     ],
     "input": [
      "# If one of the percents is greater than one, the dynamic will default pct to float format\n",
      "fc = f.copy()\n",
      "fc.ix[1, 'pct'] = 1.02\n",
      "fmt.new_dynamic_formatter(method='col', ignore_pcts=0, precision=2)(fc)"
     ],
     "language": "python",
     "prompt_number": 180
    },
    {
     "cell_type": "code",
     "metadata": {},
     "outputs": [
      {
       "output_type": "pyout",
       "html": [
        "<div style=\"max-height:1000px;max-width:1500px;overflow:auto;\">\n",
        "<table border=\"1\" class=\"dataframe\">\n",
        "  <thead>\n",
        "    <tr style=\"text-align: right;\">\n",
        "      <th></th>\n",
        "      <th>f</th>\n",
        "      <th>k</th>\n",
        "      <th>pct</th>\n",
        "    </tr>\n",
        "  </thead>\n",
        "  <tbody>\n",
        "    <tr>\n",
        "      <th>0</th>\n",
        "      <td>  100.99</td>\n",
        "      <td>    1.00k</td>\n",
        "      <td> 2.10%</td>\n",
        "    </tr>\n",
        "    <tr>\n",
        "      <th>1</th>\n",
        "      <td> (94.12)</td>\n",
        "      <td> (94.55k)</td>\n",
        "      <td>  1.02</td>\n",
        "    </tr>\n",
        "  </tbody>\n",
        "</table>\n",
        "</div>"
       ],
       "text": [
        "         f         k    pct\n",
        "0   100.99     1.00k  2.10%\n",
        "1  (94.12)  (94.55k)   1.02"
       ],
       "metadata": {}
      }
     ],
     "input": [
      "# You can do each cell individually if you like\n",
      "fmt.new_dynamic_formatter(method='cell', ignore_pcts=0, precision=2)(fc)"
     ],
     "language": "python",
     "prompt_number": 181
    },
    {
     "cell_type": "code",
     "metadata": {},
     "outputs": [
      {
       "output_type": "pyout",
       "html": [
        "<div style=\"max-height:1000px;max-width:1500px;overflow:auto;\">\n",
        "<table border=\"1\" class=\"dataframe\">\n",
        "  <thead>\n",
        "    <tr style=\"text-align: right;\">\n",
        "      <th></th>\n",
        "      <th>0</th>\n",
        "      <th>1</th>\n",
        "    </tr>\n",
        "  </thead>\n",
        "  <tbody>\n",
        "    <tr>\n",
        "      <th>f</th>\n",
        "      <td>  100.990</td>\n",
        "      <td>   -94.120</td>\n",
        "    </tr>\n",
        "    <tr>\n",
        "      <th>k</th>\n",
        "      <td> 1001.200</td>\n",
        "      <td>-94551.120</td>\n",
        "    </tr>\n",
        "    <tr>\n",
        "      <th>pct</th>\n",
        "      <td>    0.021</td>\n",
        "      <td>    -0.505</td>\n",
        "    </tr>\n",
        "  </tbody>\n",
        "</table>\n",
        "</div>"
       ],
       "text": [
        "            0          1\n",
        "f     100.990    -94.120\n",
        "k    1001.200 -94551.120\n",
        "pct     0.021     -0.505"
       ],
       "metadata": {}
      }
     ],
     "input": [
      "# What if the data is by row\n",
      "tf = f.T\n",
      "tf"
     ],
     "language": "python",
     "prompt_number": 182
    },
    {
     "cell_type": "code",
     "metadata": {},
     "outputs": [
      {
       "output_type": "pyout",
       "html": [
        "<div style=\"max-height:1000px;max-width:1500px;overflow:auto;\">\n",
        "<table border=\"1\" class=\"dataframe\">\n",
        "  <thead>\n",
        "    <tr style=\"text-align: right;\">\n",
        "      <th></th>\n",
        "      <th>0</th>\n",
        "      <th>1</th>\n",
        "    </tr>\n",
        "  </thead>\n",
        "  <tbody>\n",
        "    <tr>\n",
        "      <th>f</th>\n",
        "      <td>   100.99</td>\n",
        "      <td>     (94.12)</td>\n",
        "    </tr>\n",
        "    <tr>\n",
        "      <th>k</th>\n",
        "      <td> 1,001.20</td>\n",
        "      <td> (94,551.12)</td>\n",
        "    </tr>\n",
        "    <tr>\n",
        "      <th>pct</th>\n",
        "      <td>     0.02</td>\n",
        "      <td>      (0.51)</td>\n",
        "    </tr>\n",
        "  </tbody>\n",
        "</table>\n",
        "</div>"
       ],
       "text": [
        "            0            1\n",
        "f      100.99      (94.12)\n",
        "k    1,001.20  (94,551.12)\n",
        "pct      0.02       (0.51)"
       ],
       "metadata": {}
      }
     ],
     "input": [
      "# show dynamic formtter by column. it defaults to best fit for all column values\n",
      "fmt.new_dynamic_formatter(method='col', ignore_pcts=0, precision=2)(f.T)"
     ],
     "language": "python",
     "prompt_number": 183
    },
    {
     "cell_type": "code",
     "metadata": {},
     "outputs": [
      {
       "output_type": "pyout",
       "html": [
        "<div style=\"max-height:1000px;max-width:1500px;overflow:auto;\">\n",
        "<table border=\"1\" class=\"dataframe\">\n",
        "  <thead>\n",
        "    <tr style=\"text-align: right;\">\n",
        "      <th></th>\n",
        "      <th>0</th>\n",
        "      <th>1</th>\n",
        "    </tr>\n",
        "  </thead>\n",
        "  <tbody>\n",
        "    <tr>\n",
        "      <th>f</th>\n",
        "      <td> 100.99</td>\n",
        "      <td>  (94.12)</td>\n",
        "    </tr>\n",
        "    <tr>\n",
        "      <th>k</th>\n",
        "      <td>  1.00k</td>\n",
        "      <td> (94.55k)</td>\n",
        "    </tr>\n",
        "    <tr>\n",
        "      <th>pct</th>\n",
        "      <td>  2.10%</td>\n",
        "      <td> (50.50%)</td>\n",
        "    </tr>\n",
        "  </tbody>\n",
        "</table>\n",
        "</div>"
       ],
       "text": [
        "          0         1\n",
        "f    100.99   (94.12)\n",
        "k     1.00k  (94.55k)\n",
        "pct   2.10%  (50.50%)"
       ],
       "metadata": {}
      }
     ],
     "input": [
      "# instead do it by row\n",
      "fmt.new_dynamic_formatter(method='row', ignore_pcts=0, precision=2)(f.T)"
     ],
     "language": "python",
     "prompt_number": 184
    },
    {
     "cell_type": "code",
     "metadata": {},
     "outputs": [
      {
       "output_type": "pyout",
       "html": [
        "<table border=\"1\" class=\"dataframe\">\n",
        "  <thead>\n",
        "    <tr style=\"text-align: right;\">\n",
        "      <th></th>\n",
        "      <th>f</th>\n",
        "      <th>k</th>\n",
        "      <th>pct</th>\n",
        "    </tr>\n",
        "  </thead>\n",
        "  <tbody>\n",
        "    <tr>\n",
        "      <th>0</th>\n",
        "      <td> 100.990</td>\n",
        "      <td>  1.0k</td>\n",
        "      <td>   2.1%</td>\n",
        "    </tr>\n",
        "    <tr>\n",
        "      <th>1</th>\n",
        "      <td>(94.120)</td>\n",
        "      <td>-94.6k</td>\n",
        "      <td>(50.5%)</td>\n",
        "    </tr>\n",
        "  </tbody>\n",
        "</table>"
       ],
       "text": [
        "<IPython.core.display.HTML at 0xc498be0>"
       ],
       "metadata": {}
      }
     ],
     "input": [
      "# use the formatters for easier HTML generation\n",
      "fmts = {\n",
      "    'k': fmt.new_thousands_formatter(precision=1, commas=True, parens=False),\n",
      "    'f': fmt.new_float_formatter(precision=3, parens=True),\n",
      "    'pct': fmt.new_percent_formatter(precision=1, parens=True)\n",
      "}\n",
      "HTML(f.to_html(formatters=fmts))"
     ],
     "language": "python",
     "prompt_number": 185
    },
    {
     "cell_type": "code",
     "metadata": {},
     "outputs": [],
     "input": [
      ""
     ],
     "language": "python"
    }
   ]
  }
 ],
 "cells": [],
 "metadata": {
  "name": "",
  "signature": "sha256:5c24f6fc421443a5faf7a7940f72a36326129c3c0f30d05c56068615e70b649a"
 },
 "nbformat": 3,
 "nbformat_minor": 0
}