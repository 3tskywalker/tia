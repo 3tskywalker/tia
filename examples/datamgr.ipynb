{
 "worksheets": [
  {
   "cells": [
    {
     "cell_type": "markdown",
     "metadata": {},
     "source": [
      "# Example using the data manager classes\n",
      "This notebook shows how to use the data manager framework for simpler API usage and for caching capabilities. \n",
      "\n",
      "Please note that in order to request bloomberg fields using property access, it must be CAPITALIZED. (sid.PX_AST NOT sid.px_last)"
     ]
    },
    {
     "cell_type": "code",
     "metadata": {},
     "outputs": [],
     "input": [
      "import pandas as pd\n",
      "import tia.bbg.datamgr as dm"
     ],
     "language": "python",
     "prompt_number": 1
    },
    {
     "cell_type": "markdown",
     "metadata": {},
     "source": [
      "## Single Security Accessor"
     ]
    },
    {
     "cell_type": "code",
     "metadata": {},
     "outputs": [],
     "input": [
      "# create a DataManager for simpler api access\n",
      "mgr = dm.BbgDataManager()\n",
      "# retrieve a single security accessor from the manager\n",
      "msft = mgr['MSFT US EQUITY']"
     ],
     "language": "python",
     "prompt_number": 2
    },
    {
     "cell_type": "code",
     "metadata": {},
     "outputs": [
      {
       "output_type": "pyout",
       "prompt_number": 3,
       "text": [
        "(46.240000000000002, 45.310000000000002)"
       ],
       "metadata": {}
      }
     ],
     "input": [
      "#  Can now access any Bloomberg field (as long as it is upper case)\n",
      "msft.PX_LAST, msft.PX_OPEN"
     ],
     "language": "python",
     "prompt_number": 3
    },
    {
     "cell_type": "code",
     "metadata": {},
     "outputs": [
      {
       "output_type": "pyout",
       "prompt_number": 4,
       "text": [
        "[46.24, 45.31]"
       ],
       "metadata": {}
      }
     ],
     "input": [
      "# Access multiple fields at the same time\n",
      "msft['PX_LAST', 'PX_OPEN']"
     ],
     "language": "python",
     "prompt_number": 4
    },
    {
     "cell_type": "code",
     "metadata": {},
     "outputs": [
      {
       "output_type": "pyout",
       "prompt_number": 5,
       "text": [
        "[46.24, 45.31]"
       ],
       "metadata": {}
      }
     ],
     "input": [
      "# OR pass an array\n",
      "msft[['PX_LAST', 'PX_OPEN']]"
     ],
     "language": "python",
     "prompt_number": 5
    },
    {
     "cell_type": "code",
     "metadata": {},
     "outputs": [
      {
       "output_type": "pyout",
       "html": [
        "<div style=\"max-height:1000px;max-width:1500px;overflow:auto;\">\n",
        "<table border=\"1\" class=\"dataframe\">\n",
        "  <thead>\n",
        "    <tr style=\"text-align: right;\">\n",
        "      <th></th>\n",
        "      <th>PX_LAST</th>\n",
        "    </tr>\n",
        "  </thead>\n",
        "  <tbody>\n",
        "    <tr>\n",
        "      <th>MSFT US EQUITY</th>\n",
        "      <td> 46.24</td>\n",
        "    </tr>\n",
        "  </tbody>\n",
        "</table>\n",
        "</div>"
       ],
       "text": [
        "                PX_LAST\n",
        "MSFT US EQUITY    46.24"
       ],
       "metadata": {}
      }
     ],
     "input": [
      "# Have the manager default to returning a frame instead of values\n",
      "mgr.sid_result_mode = 'frame'\n",
      "msft.PX_LAST"
     ],
     "language": "python",
     "prompt_number": 6
    },
    {
     "cell_type": "code",
     "metadata": {},
     "outputs": [
      {
       "output_type": "pyout",
       "html": [
        "<div style=\"max-height:1000px;max-width:1500px;overflow:auto;\">\n",
        "<table border=\"1\" class=\"dataframe\">\n",
        "  <thead>\n",
        "    <tr style=\"text-align: right;\">\n",
        "      <th></th>\n",
        "      <th>PX_LAST</th>\n",
        "      <th>PX_OPEN</th>\n",
        "    </tr>\n",
        "  </thead>\n",
        "  <tbody>\n",
        "    <tr>\n",
        "      <th>MSFT US EQUITY</th>\n",
        "      <td> 46.24</td>\n",
        "      <td> 45.31</td>\n",
        "    </tr>\n",
        "  </tbody>\n",
        "</table>\n",
        "</div>"
       ],
       "text": [
        "                PX_LAST  PX_OPEN\n",
        "MSFT US EQUITY    46.24    45.31"
       ],
       "metadata": {}
      }
     ],
     "input": [
      "# multiple fields returned as data frame\n",
      "msft[['PX_LAST', 'PX_OPEN']]"
     ],
     "language": "python",
     "prompt_number": 7
    },
    {
     "cell_type": "code",
     "metadata": {},
     "outputs": [
      {
       "output_type": "pyout",
       "html": [
        "<div style=\"max-height:1000px;max-width:1500px;overflow:auto;\">\n",
        "<table border=\"1\" class=\"dataframe\">\n",
        "  <thead>\n",
        "    <tr style=\"text-align: right;\">\n",
        "      <th></th>\n",
        "      <th>PX_OPEN</th>\n",
        "      <th>PX_HIGH</th>\n",
        "      <th>PX_LOW</th>\n",
        "      <th>PX_LAST</th>\n",
        "    </tr>\n",
        "    <tr>\n",
        "      <th>date</th>\n",
        "      <th></th>\n",
        "      <th></th>\n",
        "      <th></th>\n",
        "      <th></th>\n",
        "    </tr>\n",
        "  </thead>\n",
        "  <tbody>\n",
        "    <tr>\n",
        "      <th>2014-01-02</th>\n",
        "      <td> 37.350</td>\n",
        "      <td> 37.40</td>\n",
        "      <td> 37.10</td>\n",
        "      <td> 37.16</td>\n",
        "    </tr>\n",
        "    <tr>\n",
        "      <th>2014-01-03</th>\n",
        "      <td> 37.200</td>\n",
        "      <td> 37.22</td>\n",
        "      <td> 36.60</td>\n",
        "      <td> 36.91</td>\n",
        "    </tr>\n",
        "    <tr>\n",
        "      <th>2014-01-06</th>\n",
        "      <td> 36.850</td>\n",
        "      <td> 36.89</td>\n",
        "      <td> 36.11</td>\n",
        "      <td> 36.13</td>\n",
        "    </tr>\n",
        "    <tr>\n",
        "      <th>2014-01-07</th>\n",
        "      <td> 36.325</td>\n",
        "      <td> 36.49</td>\n",
        "      <td> 36.21</td>\n",
        "      <td> 36.41</td>\n",
        "    </tr>\n",
        "    <tr>\n",
        "      <th>2014-01-08</th>\n",
        "      <td> 36.000</td>\n",
        "      <td> 36.14</td>\n",
        "      <td> 35.58</td>\n",
        "      <td> 35.76</td>\n",
        "    </tr>\n",
        "  </tbody>\n",
        "</table>\n",
        "</div>"
       ],
       "text": [
        "            PX_OPEN  PX_HIGH  PX_LOW  PX_LAST\n",
        "date                                         \n",
        "2014-01-02   37.350    37.40   37.10    37.16\n",
        "2014-01-03   37.200    37.22   36.60    36.91\n",
        "2014-01-06   36.850    36.89   36.11    36.13\n",
        "2014-01-07   36.325    36.49   36.21    36.41\n",
        "2014-01-08   36.000    36.14   35.58    35.76"
       ],
       "metadata": {}
      }
     ],
     "input": [
      "# Retrieve historical data\n",
      "msft.get_historical(['PX_OPEN', 'PX_HIGH', 'PX_LOW', 'PX_LAST'], '1/1/2014', '1/12/2014').head()"
     ],
     "language": "python",
     "prompt_number": 8
    },
    {
     "cell_type": "markdown",
     "metadata": {},
     "source": [
      "## Multi-security accessor"
     ]
    },
    {
     "cell_type": "code",
     "metadata": {},
     "outputs": [
      {
       "output_type": "pyout",
       "html": [
        "<div style=\"max-height:1000px;max-width:1500px;overflow:auto;\">\n",
        "<table border=\"1\" class=\"dataframe\">\n",
        "  <thead>\n",
        "    <tr style=\"text-align: right;\">\n",
        "      <th></th>\n",
        "      <th>PX_LAST</th>\n",
        "    </tr>\n",
        "  </thead>\n",
        "  <tbody>\n",
        "    <tr>\n",
        "      <th>CSCO US EQUITY</th>\n",
        "      <td>  27.68</td>\n",
        "    </tr>\n",
        "    <tr>\n",
        "      <th>IBM US EQUITY</th>\n",
        "      <td> 157.14</td>\n",
        "    </tr>\n",
        "    <tr>\n",
        "      <th>MSFT US EQUITY</th>\n",
        "      <td>  46.24</td>\n",
        "    </tr>\n",
        "  </tbody>\n",
        "</table>\n",
        "</div>"
       ],
       "text": [
        "                PX_LAST\n",
        "CSCO US EQUITY    27.68\n",
        "IBM US EQUITY    157.14\n",
        "MSFT US EQUITY    46.24"
       ],
       "metadata": {}
      }
     ],
     "input": [
      "sids = mgr['MSFT US EQUITY', 'IBM US EQUITY', 'CSCO US EQUITY']\n",
      "sids.PX_LAST"
     ],
     "language": "python",
     "prompt_number": 9
    },
    {
     "cell_type": "code",
     "metadata": {},
     "outputs": [
      {
       "output_type": "pyout",
       "html": [
        "<div style=\"max-height:1000px;max-width:1500px;overflow:auto;\">\n",
        "<table border=\"1\" class=\"dataframe\">\n",
        "  <thead>\n",
        "    <tr style=\"text-align: right;\">\n",
        "      <th></th>\n",
        "      <th>IBM US EQUITY</th>\n",
        "      <th>CSCO US EQUITY</th>\n",
        "      <th>MSFT US EQUITY</th>\n",
        "    </tr>\n",
        "    <tr>\n",
        "      <th>date</th>\n",
        "      <th></th>\n",
        "      <th></th>\n",
        "      <th></th>\n",
        "    </tr>\n",
        "  </thead>\n",
        "  <tbody>\n",
        "    <tr>\n",
        "      <th>2014-01-02</th>\n",
        "      <td> 185.53</td>\n",
        "      <td> 22.000</td>\n",
        "      <td> 37.16</td>\n",
        "    </tr>\n",
        "    <tr>\n",
        "      <th>2014-01-03</th>\n",
        "      <td> 186.64</td>\n",
        "      <td> 21.980</td>\n",
        "      <td> 36.91</td>\n",
        "    </tr>\n",
        "    <tr>\n",
        "      <th>2014-01-06</th>\n",
        "      <td> 186.00</td>\n",
        "      <td> 22.010</td>\n",
        "      <td> 36.13</td>\n",
        "    </tr>\n",
        "    <tr>\n",
        "      <th>2014-01-07</th>\n",
        "      <td> 189.71</td>\n",
        "      <td> 22.310</td>\n",
        "      <td> 36.41</td>\n",
        "    </tr>\n",
        "    <tr>\n",
        "      <th>2014-01-08</th>\n",
        "      <td> 187.97</td>\n",
        "      <td> 22.293</td>\n",
        "      <td> 35.76</td>\n",
        "    </tr>\n",
        "  </tbody>\n",
        "</table>\n",
        "</div>"
       ],
       "text": [
        "            IBM US EQUITY  CSCO US EQUITY  MSFT US EQUITY\n",
        "date                                                     \n",
        "2014-01-02         185.53          22.000           37.16\n",
        "2014-01-03         186.64          21.980           36.91\n",
        "2014-01-06         186.00          22.010           36.13\n",
        "2014-01-07         189.71          22.310           36.41\n",
        "2014-01-08         187.97          22.293           35.76"
       ],
       "metadata": {}
      }
     ],
     "input": [
      "sids.get_historical('PX_LAST', '1/1/2014', '11/12/2014').head()"
     ],
     "language": "python",
     "prompt_number": 10
    },
    {
     "cell_type": "code",
     "metadata": {},
     "outputs": [
      {
       "output_type": "pyout",
       "html": [
        "<div style=\"max-height:1000px;max-width:1500px;overflow:auto;\">\n",
        "<table border=\"1\" class=\"dataframe\">\n",
        "  <thead>\n",
        "    <tr>\n",
        "      <th></th>\n",
        "      <th colspan=\"2\" halign=\"left\">IBM US EQUITY</th>\n",
        "      <th colspan=\"2\" halign=\"left\">CSCO US EQUITY</th>\n",
        "      <th colspan=\"2\" halign=\"left\">MSFT US EQUITY</th>\n",
        "    </tr>\n",
        "    <tr>\n",
        "      <th></th>\n",
        "      <th>PX_OPEN</th>\n",
        "      <th>PX_LAST</th>\n",
        "      <th>PX_OPEN</th>\n",
        "      <th>PX_LAST</th>\n",
        "      <th>PX_OPEN</th>\n",
        "      <th>PX_LAST</th>\n",
        "    </tr>\n",
        "    <tr>\n",
        "      <th>date</th>\n",
        "      <th></th>\n",
        "      <th></th>\n",
        "      <th></th>\n",
        "      <th></th>\n",
        "      <th></th>\n",
        "      <th></th>\n",
        "    </tr>\n",
        "  </thead>\n",
        "  <tbody>\n",
        "    <tr>\n",
        "      <th>2014-01-02</th>\n",
        "      <td> 187.21</td>\n",
        "      <td> 185.53</td>\n",
        "      <td> 22.17</td>\n",
        "      <td> 22.000</td>\n",
        "      <td> 37.350</td>\n",
        "      <td> 37.16</td>\n",
        "    </tr>\n",
        "    <tr>\n",
        "      <th>2014-01-03</th>\n",
        "      <td> 185.83</td>\n",
        "      <td> 186.64</td>\n",
        "      <td> 22.09</td>\n",
        "      <td> 21.980</td>\n",
        "      <td> 37.200</td>\n",
        "      <td> 36.91</td>\n",
        "    </tr>\n",
        "    <tr>\n",
        "      <th>2014-01-06</th>\n",
        "      <td> 187.15</td>\n",
        "      <td> 186.00</td>\n",
        "      <td> 21.96</td>\n",
        "      <td> 22.010</td>\n",
        "      <td> 36.850</td>\n",
        "      <td> 36.13</td>\n",
        "    </tr>\n",
        "    <tr>\n",
        "      <th>2014-01-07</th>\n",
        "      <td> 186.39</td>\n",
        "      <td> 189.71</td>\n",
        "      <td> 22.26</td>\n",
        "      <td> 22.310</td>\n",
        "      <td> 36.325</td>\n",
        "      <td> 36.41</td>\n",
        "    </tr>\n",
        "    <tr>\n",
        "      <th>2014-01-08</th>\n",
        "      <td> 189.33</td>\n",
        "      <td> 187.97</td>\n",
        "      <td> 22.29</td>\n",
        "      <td> 22.293</td>\n",
        "      <td> 36.000</td>\n",
        "      <td> 35.76</td>\n",
        "    </tr>\n",
        "  </tbody>\n",
        "</table>\n",
        "</div>"
       ],
       "text": [
        "            IBM US EQUITY           CSCO US EQUITY           MSFT US EQUITY  \\\n",
        "                  PX_OPEN  PX_LAST         PX_OPEN  PX_LAST         PX_OPEN   \n",
        "date                                                                          \n",
        "2014-01-02         187.21   185.53           22.17   22.000          37.350   \n",
        "2014-01-03         185.83   186.64           22.09   21.980          37.200   \n",
        "2014-01-06         187.15   186.00           21.96   22.010          36.850   \n",
        "2014-01-07         186.39   189.71           22.26   22.310          36.325   \n",
        "2014-01-08         189.33   187.97           22.29   22.293          36.000   \n",
        "\n",
        "                     \n",
        "            PX_LAST  \n",
        "date                 \n",
        "2014-01-02    37.16  \n",
        "2014-01-03    36.91  \n",
        "2014-01-06    36.13  \n",
        "2014-01-07    36.41  \n",
        "2014-01-08    35.76  "
       ],
       "metadata": {}
      }
     ],
     "input": [
      "sids.get_historical(['PX_OPEN', 'PX_LAST'], '1/1/2014', '11/12/2014').head()"
     ],
     "language": "python",
     "prompt_number": 11
    },
    {
     "cell_type": "markdown",
     "metadata": {},
     "source": [
      "## Caching"
     ]
    },
    {
     "cell_type": "code",
     "metadata": {},
     "outputs": [],
     "input": [
      "#\n",
      "# ability to cache requests in memory or in h5 file\n",
      "#\n",
      "ms = dm.MemoryStorage()\n",
      "cmgr = dm.CachedDataManager(mgr, ms, pd.datetime.now())"
     ],
     "language": "python",
     "prompt_number": 12
    },
    {
     "cell_type": "code",
     "metadata": {},
     "outputs": [
      {
       "output_type": "pyout",
       "html": [
        "<div style=\"max-height:1000px;max-width:1500px;overflow:auto;\">\n",
        "<table border=\"1\" class=\"dataframe\">\n",
        "  <thead>\n",
        "    <tr style=\"text-align: right;\">\n",
        "      <th></th>\n",
        "      <th>PX_LAST</th>\n",
        "    </tr>\n",
        "  </thead>\n",
        "  <tbody>\n",
        "    <tr>\n",
        "      <th>MSFT US EQUITY</th>\n",
        "      <td> 46.24</td>\n",
        "    </tr>\n",
        "  </tbody>\n",
        "</table>\n",
        "</div>"
       ],
       "text": [
        "                PX_LAST\n",
        "MSFT US EQUITY    46.24"
       ],
       "metadata": {}
      }
     ],
     "input": [
      "cmsft = cmgr['MSFT US EQUITY']\n",
      "cmsft.PX_LAST"
     ],
     "language": "python",
     "prompt_number": 13
    },
    {
     "cell_type": "code",
     "metadata": {},
     "outputs": [
      {
       "output_type": "stream",
       "stream": "stdout",
       "text": [
        "1 loops, best of 3: 260 ms per loop\n"
       ]
      }
     ],
     "input": [
      "%timeit msft.PX_LAST"
     ],
     "language": "python",
     "prompt_number": 14
    },
    {
     "cell_type": "code",
     "metadata": {},
     "outputs": [
      {
       "output_type": "stream",
       "stream": "stdout",
       "text": [
        "1000 loops, best of 3: 1.62 ms per loop\n"
       ]
      }
     ],
     "input": [
      "%timeit cmsft.PX_LAST"
     ],
     "language": "python",
     "prompt_number": 15
    },
    {
     "cell_type": "code",
     "metadata": {},
     "outputs": [],
     "input": [
      "csids = cmgr['MSFT US EQUITY', 'IBM US EQUITY']\n",
      "sids = mgr['MSFT US EQUITY', 'IBM US EQUITY']"
     ],
     "language": "python",
     "prompt_number": 16
    },
    {
     "cell_type": "code",
     "metadata": {},
     "outputs": [
      {
       "output_type": "stream",
       "stream": "stdout",
       "text": [
        "1 loops, best of 3: 966 ms per loop\n"
       ]
      }
     ],
     "input": [
      "%timeit sids.get_historical('PX_LAST', start='1/3/2000', end='1/3/2014').head()"
     ],
     "language": "python",
     "prompt_number": 17
    },
    {
     "cell_type": "code",
     "metadata": {},
     "outputs": [
      {
       "output_type": "stream",
       "stream": "stdout",
       "text": [
        "1 loops, best of 3: 5.03 ms per loop\n"
       ]
      }
     ],
     "input": [
      "%timeit csids.get_historical('PX_LAST', start='1/3/2000', end='1/3/2014').head()"
     ],
     "language": "python",
     "prompt_number": 18
    },
    {
     "cell_type": "code",
     "metadata": {},
     "outputs": [
      {
       "output_type": "stream",
       "stream": "stderr",
       "text": [
        "C:\\Anaconda\\lib\\site-packages\\tables\\path.py:100: NaturalNameWarning: object name is not a valid Python identifier: 'MSFT US EQUITY'; it does not match the pattern ``^[a-zA-Z_][a-zA-Z0-9_]*$``; you will not be able to use natural naming to access this object; using ``getattr()`` will still work, though\n",
        "  NaturalNameWarning)\n"
       ]
      },
      {
       "output_type": "pyout",
       "html": [
        "<div style=\"max-height:1000px;max-width:1500px;overflow:auto;\">\n",
        "<table border=\"1\" class=\"dataframe\">\n",
        "  <thead>\n",
        "    <tr style=\"text-align: right;\">\n",
        "      <th></th>\n",
        "      <th>PX_LAST</th>\n",
        "    </tr>\n",
        "  </thead>\n",
        "  <tbody>\n",
        "    <tr>\n",
        "      <th>MSFT US EQUITY</th>\n",
        "      <td> 46.24</td>\n",
        "    </tr>\n",
        "  </tbody>\n",
        "</table>\n",
        "</div>"
       ],
       "text": [
        "                PX_LAST\n",
        "MSFT US EQUITY    46.24"
       ],
       "metadata": {}
      }
     ],
     "input": [
      "#\n",
      "# HD Storage\n",
      "# - note after executing the warning from hf api. I decided to leave blanks instead of replacing\n",
      "#\n",
      "\n",
      "import tempfile\n",
      "fh, fp = tempfile.mkstemp()\n",
      "\n",
      "h5storage = dm.HDFStorage(fp)  # Can set compression level for smaller files\n",
      "h5mgr = dm.CachedDataManager(mgr, h5storage, pd.datetime.now())\n",
      "h5msft = h5mgr['MSFT US EQUITY']\n",
      "h5msft.PX_LAST"
     ],
     "language": "python",
     "prompt_number": 19
    },
    {
     "cell_type": "code",
     "metadata": {},
     "outputs": [
      {
       "output_type": "pyout",
       "html": [
        "<div style=\"max-height:1000px;max-width:1500px;overflow:auto;\">\n",
        "<table border=\"1\" class=\"dataframe\">\n",
        "  <thead>\n",
        "    <tr style=\"text-align: right;\">\n",
        "      <th></th>\n",
        "      <th>PX_LAST</th>\n",
        "    </tr>\n",
        "  </thead>\n",
        "  <tbody>\n",
        "    <tr>\n",
        "      <th>MSFT US EQUITY</th>\n",
        "      <td> 46.24</td>\n",
        "    </tr>\n",
        "  </tbody>\n",
        "</table>\n",
        "</div>"
       ],
       "text": [
        "                PX_LAST\n",
        "MSFT US EQUITY    46.24"
       ],
       "metadata": {}
      }
     ],
     "input": [
      "# Notice no warning as it is taken from cache\n",
      "h5msft.PX_LAST"
     ],
     "language": "python",
     "prompt_number": 20
    },
    {
     "cell_type": "code",
     "metadata": {},
     "outputs": [
      {
       "output_type": "pyout",
       "html": [
        "<div style=\"max-height:1000px;max-width:1500px;overflow:auto;\">\n",
        "<table border=\"1\" class=\"dataframe\">\n",
        "  <thead>\n",
        "    <tr style=\"text-align: right;\">\n",
        "      <th></th>\n",
        "      <th>PX_LAST</th>\n",
        "    </tr>\n",
        "    <tr>\n",
        "      <th>date</th>\n",
        "      <th></th>\n",
        "    </tr>\n",
        "  </thead>\n",
        "  <tbody>\n",
        "    <tr>\n",
        "      <th>2000-01-03</th>\n",
        "      <td> 58.2813</td>\n",
        "    </tr>\n",
        "    <tr>\n",
        "      <th>2000-01-04</th>\n",
        "      <td> 56.3125</td>\n",
        "    </tr>\n",
        "    <tr>\n",
        "      <th>2000-01-05</th>\n",
        "      <td> 56.9063</td>\n",
        "    </tr>\n",
        "    <tr>\n",
        "      <th>2000-01-06</th>\n",
        "      <td> 55.0000</td>\n",
        "    </tr>\n",
        "    <tr>\n",
        "      <th>2000-01-07</th>\n",
        "      <td> 55.7188</td>\n",
        "    </tr>\n",
        "  </tbody>\n",
        "</table>\n",
        "</div>"
       ],
       "text": [
        "            PX_LAST\n",
        "date               \n",
        "2000-01-03  58.2813\n",
        "2000-01-04  56.3125\n",
        "2000-01-05  56.9063\n",
        "2000-01-06  55.0000\n",
        "2000-01-07  55.7188"
       ],
       "metadata": {}
      }
     ],
     "input": [
      "h5msft.get_historical('PX_LAST', start='1/2/2000', end='1/2/2014').head()"
     ],
     "language": "python",
     "prompt_number": 21
    },
    {
     "cell_type": "code",
     "metadata": {},
     "outputs": [
      {
       "output_type": "stream",
       "stream": "stdout",
       "text": [
        "100 loops, best of 3: 5.81 ms per loop\n"
       ]
      }
     ],
     "input": [
      "%timeit h5msft.get_historical('PX_LAST', start='1/2/2000', end='1/2/2014')"
     ],
     "language": "python",
     "prompt_number": 22
    },
    {
     "cell_type": "code",
     "metadata": {},
     "outputs": [
      {
       "output_type": "stream",
       "stream": "stderr",
       "text": [
        "C:\\Anaconda\\lib\\site-packages\\tables\\path.py:100: NaturalNameWarning: object name is not a valid Python identifier: 'IBM US EQUITY'; it does not match the pattern ``^[a-zA-Z_][a-zA-Z0-9_]*$``; you will not be able to use natural naming to access this object; using ``getattr()`` will still work, though\n",
        "  NaturalNameWarning)\n"
       ]
      },
      {
       "output_type": "pyout",
       "html": [
        "<div style=\"max-height:1000px;max-width:1500px;overflow:auto;\">\n",
        "<table border=\"1\" class=\"dataframe\">\n",
        "  <thead>\n",
        "    <tr style=\"text-align: right;\">\n",
        "      <th></th>\n",
        "      <th>IBM US EQUITY</th>\n",
        "      <th>MSFT US EQUITY</th>\n",
        "    </tr>\n",
        "    <tr>\n",
        "      <th>date</th>\n",
        "      <th></th>\n",
        "      <th></th>\n",
        "    </tr>\n",
        "  </thead>\n",
        "  <tbody>\n",
        "    <tr>\n",
        "      <th>2013-12-26</th>\n",
        "      <td> 185.35</td>\n",
        "      <td> 37.44</td>\n",
        "    </tr>\n",
        "    <tr>\n",
        "      <th>2013-12-27</th>\n",
        "      <td> 185.08</td>\n",
        "      <td> 37.29</td>\n",
        "    </tr>\n",
        "    <tr>\n",
        "      <th>2013-12-30</th>\n",
        "      <td> 186.41</td>\n",
        "      <td> 37.29</td>\n",
        "    </tr>\n",
        "    <tr>\n",
        "      <th>2013-12-31</th>\n",
        "      <td> 187.57</td>\n",
        "      <td> 37.41</td>\n",
        "    </tr>\n",
        "    <tr>\n",
        "      <th>2014-01-02</th>\n",
        "      <td> 185.53</td>\n",
        "      <td> 37.16</td>\n",
        "    </tr>\n",
        "  </tbody>\n",
        "</table>\n",
        "</div>"
       ],
       "text": [
        "            IBM US EQUITY  MSFT US EQUITY\n",
        "date                                     \n",
        "2013-12-26         185.35           37.44\n",
        "2013-12-27         185.08           37.29\n",
        "2013-12-30         186.41           37.29\n",
        "2013-12-31         187.57           37.41\n",
        "2014-01-02         185.53           37.16"
       ],
       "metadata": {}
      }
     ],
     "input": [
      "# notice only IBM gets warning as MSFT is already cached, so it only retrieves IBM data\n",
      "h5sids = h5mgr['MSFT US EQUITY', 'IBM US EQUITY']\n",
      "h5sids.get_historical('PX_LAST', start='1/3/2000', end='1/2/2014').tail()"
     ],
     "language": "python",
     "prompt_number": 23
    },
    {
     "cell_type": "code",
     "metadata": {},
     "outputs": [
      {
       "output_type": "stream",
       "stream": "stdout",
       "text": [
        "100 loops, best of 3: 15.7 ms per loop\n"
       ]
      }
     ],
     "input": [
      "# not perfect as it retrieves for each security and then concats BUT better than roundtrip to bloomberg plus consistency added for free\n",
      "%timeit h5sids.get_historical('PX_LAST', start='1/3/2000', end='1/2/2014')"
     ],
     "language": "python",
     "prompt_number": 46
    }
   ]
  }
 ],
 "cells": [],
 "metadata": {
  "name": "",
  "signature": "sha256:a31d30f2a211f4597a584e2d8a13e9abacc99aa343bb4b93b287fd357eb32e26"
 },
 "nbformat": 3,
 "nbformat_minor": 0
}