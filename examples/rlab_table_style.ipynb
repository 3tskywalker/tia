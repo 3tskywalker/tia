{
 "cells": [
  {
   "cell_type": "code",
   "execution_count": 1,
   "metadata": {
    "collapsed": false
   },
   "outputs": [],
   "source": [
    "import pandas as pd\n",
    "from reportlab.lib import colors\n",
    "import tia.rlab as rlab"
   ]
  },
  {
   "cell_type": "code",
   "execution_count": 2,
   "metadata": {
    "collapsed": false
   },
   "outputs": [
    {
     "data": {
      "text/html": [
       "<div style=\"max-height:1000px;max-width:1500px;overflow:auto;\">\n",
       "<table border=\"1\" class=\"dataframe\">\n",
       "  <thead>\n",
       "    <tr>\n",
       "      <th></th>\n",
       "      <th colspan=\"2\" halign=\"left\">h1</th>\n",
       "    </tr>\n",
       "    <tr>\n",
       "      <th></th>\n",
       "      <th>col1</th>\n",
       "      <th>col2</th>\n",
       "    </tr>\n",
       "  </thead>\n",
       "  <tbody>\n",
       "    <tr>\n",
       "      <th>A</th>\n",
       "      <td>0.1</td>\n",
       "      <td>10000000</td>\n",
       "    </tr>\n",
       "    <tr>\n",
       "      <th>B</th>\n",
       "      <td>0.2</td>\n",
       "      <td>20000000</td>\n",
       "    </tr>\n",
       "    <tr>\n",
       "      <th>C</th>\n",
       "      <td>0.3</td>\n",
       "      <td>30000000</td>\n",
       "    </tr>\n",
       "  </tbody>\n",
       "</table>\n",
       "</div>"
      ],
      "text/plain": [
       "    h1          \n",
       "  col1      col2\n",
       "A  0.1  10000000\n",
       "B  0.2  20000000\n",
       "C  0.3  30000000"
      ]
     },
     "execution_count": 2,
     "metadata": {},
     "output_type": "execute_result"
    }
   ],
   "source": [
    "df = pd.DataFrame({'col1': [.1, .2, .3], 'col2': [10000000, 20000000, 30000000]}, index=['A', 'B', 'C'])\n",
    "df.columns = pd.MultiIndex.from_arrays([['h1'] * 2, df.columns.values])\n",
    "df"
   ]
  },
  {
   "cell_type": "markdown",
   "metadata": {},
   "source": [
    "### Show the different simple table stylings available"
   ]
  },
  {
   "cell_type": "code",
   "execution_count": 4,
   "metadata": {
    "collapsed": false
   },
   "outputs": [],
   "source": [
    "#\n",
    "# Build the pdf template and then the pdf\n",
    "# \n",
    "pdf_path = 'rlab_table_style.pdf'\n",
    "pdf = rlab.PdfBuilder(pdf_path, showBoundary=1)\n",
    "pdf.define_simple_grid_template('t1', 3, 3, sequential=True)\n",
    "\n",
    "def build_itms(lbl, cb):\n",
    "    tbl = pdf.new_table(df, layout=None)\n",
    "    cb and cb(tbl)\n",
    "    tbl.cells.iloc[:, 0].percent_format()\n",
    "    tbl.cells.iloc[:, 1].millions_format()\n",
    "    return [pdf.p('<b><u>{0}</u></b><br/>&nbsp;<br/>'.format(lbl)), tbl]\n",
    "\n",
    "\n",
    "# Try some other fonts\n",
    "pfont =  rlab.Font('Palatino Linotype', 'pala.ttf').try_load(default='Helvetica')\n",
    "pfontb =  rlab.Font('Palatino Linotype Bold', 'palab.ttf').try_load(default='Helvetica')\n",
    "    \n",
    "\n",
    "f0 = None\n",
    "f1 = lambda tbl: tbl.apply_basic_style()\n",
    "# Make the table purple\n",
    "f2 = lambda tbl: tbl.apply_basic_style(cmap=rlab.Style.Black)\n",
    "f3 = lambda tbl: tbl.apply_basic_style(cell_border_clazz=rlab.BorderTypeHorizontal, hdr_border_clazz=rlab.BorderTypeHorizontal, cmap=rlab.Style.Cyan)\n",
    "f4 = lambda tbl: tbl.apply_basic_style(stripe_rows=0, cell_border_clazz=rlab.BorderTypeHorizontal, hdr_border_clazz=rlab.BorderTypeHorizontal,  cmap=rlab.Style.Lime)\n",
    "f5 = lambda tbl: tbl.apply_basic_style(font_size=12, font=pfont, font_bold=pfontb, stripe_rows=0, cell_border_clazz=rlab.BorderTypeHorizontal, \n",
    "                                     hdr_border_clazz=rlab.BorderTypeHorizontal, cmap=rlab.Style.Purple)\n",
    "f6 = lambda tbl: tbl.apply_basic_style(colspans=0, cell_border_clazz=rlab.BorderTypeVertical, hdr_border_clazz=rlab.BorderTypeVertical, stripe_cols=1, cmap=rlab.Style.Orange)\n",
    "f7 = lambda tbl: tbl.apply_basic_style(colspans=0, cell_border_clazz=rlab.BorderTypeGrid, hdr_border_clazz=rlab.BorderTypeGrid, stripe_rows=0, cmap=rlab.Style.Red)\n",
    "\n",
    "def f8(tbl):\n",
    "    # more complex as you want to also make index dark blue\n",
    "    tbl.apply_basic_style(colspans=0, cell_border_clazz=rlab.BorderTypeOutline, hdr_border_clazz=rlab.BorderTypeGrid, stripe_rows=1, cmap=rlab.Style.Blue)\n",
    "    tbl.index.set_background(rlab.Style.Blue['Dark'])\n",
    "    tbl.index.set_textcolor(colors.white)\n",
    "\n",
    "rlab.Font\n",
    "\n",
    "#pdf.build_page('t1', {'0,0': tf.build(expand='wh', shrink='wh')})\n",
    "itms = {}\n",
    "itms['0'] = build_itms('No Style', f0)\n",
    "itms['1'] = build_itms('Default', f1)\n",
    "itms['2'] = build_itms('Black', f2)\n",
    "itms['3'] = build_itms('Cyan w/ Horizontal Borders', f3)\n",
    "itms['4'] = build_itms('Lime w/ Horizontal Borders and No Stripes', f4)\n",
    "itms['5'] = build_itms('Purple w/ Palatino Font and Larger Font Size', f5)\n",
    "\n",
    "itms['6'] = build_itms('Orange w/ Vertical Borders', f6)\n",
    "itms['7'] = build_itms('Red w/ Grid', f7)\n",
    "itms['8'] = build_itms('Blue w/ Outline and Index Background', f8)\n",
    "\n",
    "pdf.build_page('t1', itms)\n",
    "#pdf.build_page('t1', {'0,1': tf.build(expand='wh', shrink=None), '0,0': tf.build(expand='wh', shrink=None)})\n",
    "pdf.save()\n"
   ]
  },
  {
   "cell_type": "markdown",
   "metadata": {},
   "source": [
    "### Open the directory to find the rlab_table_style.pdf"
   ]
  },
  {
   "cell_type": "markdown",
   "metadata": {},
   "source": [
    "[Click ME](https://github.com/bpsmith/tia/raw/master/examples/rlab_table_style.pdf)."
   ]
  },
  {
   "cell_type": "code",
   "execution_count": null,
   "metadata": {
    "collapsed": false
   },
   "outputs": [],
   "source": []
  }
 ],
 "metadata": {
  "kernelspec": {
   "display_name": "Python 2",
   "language": "python",
   "name": "python2"
  },
  "language_info": {
   "codemirror_mode": {
    "name": "ipython",
    "version": 2
   },
   "file_extension": ".py",
   "mimetype": "text/x-python",
   "name": "python",
   "nbconvert_exporter": "python",
   "pygments_lexer": "ipython2",
   "version": "2.7.10"
  }
 },
 "nbformat": 4,
 "nbformat_minor": 0
}
